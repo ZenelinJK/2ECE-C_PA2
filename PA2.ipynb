{
 "cells": [
  {
   "cell_type": "markdown",
   "metadata": {},
   "source": [
    "# Normalization"
   ]
  },
  {
   "cell_type": "code",
   "execution_count": 4,
   "metadata": {},
   "outputs": [
    {
     "name": "stdout",
     "output_type": "stream",
     "text": [
      "Array:\n",
      " [[0.62158876 0.98295488 0.9357009  0.76795447 0.97955004]\n",
      " [0.68869633 0.81817905 0.43455041 0.44938255 0.27214687]\n",
      " [0.44589206 0.2108966  0.75507296 0.19167896 0.53958325]\n",
      " [0.78908889 0.35272411 0.94804408 0.91190057 0.36336619]\n",
      " [0.87297877 0.5197933  0.06763757 0.18866653 0.35231532]]\n",
      "Normalized Array:\n",
      " [[ 0.15383434  1.44139645  1.27302862  0.6753413   1.42926488]\n",
      " [ 0.39294134  0.85429352 -0.51259084 -0.45974334 -1.09124123]\n",
      " [-0.47218011 -1.3094784   0.62944396 -1.37795166 -0.1383546 ]\n",
      " [ 0.75064408 -0.80414128  1.31700785  1.18822706 -0.7662231 ]\n",
      " [ 1.04954714 -0.20886697 -1.81991614 -1.38868504 -0.80559782]]\n"
     ]
    }
   ],
   "source": [
    "import numpy as np #Import numpy Library \n",
    "\n",
    "#Create a 5x5 Random Array\n",
    "var = np.random.random((5,5)) #Set var as Variable\n",
    "\n",
    "#Using numpy functions .mean and .std to compute \n",
    "mean = var.mean()\n",
    "stand = var.std()\n",
    "\n",
    "#Compute for X_standardized using the Normalization Formula\n",
    "X_normalized = (var - mean) / stand\n",
    "\n",
    "#Save X_normalization\n",
    "np.save('X_normalization.npy', X_normalized)\n",
    "\n",
    "#Print Result for Initial Array and Normalized Array\n",
    "print(\"Array:\\n\", var)\n",
    "print(\"Normalized Array:\\n\", X_normalized)"
   ]
  },
  {
   "cell_type": "markdown",
   "metadata": {},
   "source": [
    "# Divisible by 3"
   ]
  },
  {
   "cell_type": "code",
   "execution_count": 6,
   "metadata": {},
   "outputs": [
    {
     "name": "stdout",
     "output_type": "stream",
     "text": [
      "Squares of First 100 Numbers:\n",
      "[[    1     4     9    16    25    36    49    64    81   100]\n",
      " [  121   144   169   196   225   256   289   324   361   400]\n",
      " [  441   484   529   576   625   676   729   784   841   900]\n",
      " [  961  1024  1089  1156  1225  1296  1369  1444  1521  1600]\n",
      " [ 1681  1764  1849  1936  2025  2116  2209  2304  2401  2500]\n",
      " [ 2601  2704  2809  2916  3025  3136  3249  3364  3481  3600]\n",
      " [ 3721  3844  3969  4096  4225  4356  4489  4624  4761  4900]\n",
      " [ 5041  5184  5329  5476  5625  5776  5929  6084  6241  6400]\n",
      " [ 6561  6724  6889  7056  7225  7396  7569  7744  7921  8100]\n",
      " [ 8281  8464  8649  8836  9025  9216  9409  9604  9801 10000]]\n",
      "\n",
      "Divisible By 3:\n",
      "[   9   36   81  144  225  324  441  576  729  900 1089 1296 1521 1764\n",
      " 2025 2304 2601 2916 3249 3600 3969 4356 4761 5184 5625 6084 6561 7056\n",
      " 7569 8100 8649 9216 9801]\n"
     ]
    }
   ],
   "source": [
    "import numpy as np #Import numpy Library\n",
    "\n",
    "\n",
    "num = np.arange(1, 101)  #Create Array from 1-100\n",
    "square = num ** 2      #Square Each Number in Array\n",
    "array = square.reshape(10, 10)  #Reshape Into 10x10 ndarray\n",
    "\n",
    "#Find Numbers Divisible By 3 in the ndarray\n",
    "div_by_3 = array[array % 3 == 0]\n",
    "\n",
    "#Save div_by_3\n",
    "np.save('div_by_3', div_by_3)\n",
    "\n",
    "#Display Result of Original Array and Divisible by 3 Array\n",
    "print(\"Squares of First 100 Numbers:\")\n",
    "print(array)\n",
    "\n",
    "print(\"\\nDivisible By 3:\")\n",
    "print(div_by_3)\n"
   ]
  },
  {
   "cell_type": "code",
   "execution_count": null,
   "metadata": {},
   "outputs": [],
   "source": []
  }
 ],
 "metadata": {
  "kernelspec": {
   "display_name": "base",
   "language": "python",
   "name": "python3"
  },
  "language_info": {
   "codemirror_mode": {
    "name": "ipython",
    "version": 3
   },
   "file_extension": ".py",
   "mimetype": "text/x-python",
   "name": "python",
   "nbconvert_exporter": "python",
   "pygments_lexer": "ipython3",
   "version": "3.12.4"
  }
 },
 "nbformat": 4,
 "nbformat_minor": 2
}
